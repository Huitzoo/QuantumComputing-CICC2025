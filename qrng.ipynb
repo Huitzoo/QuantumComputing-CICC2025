{
 "cells": [
  {
   "cell_type": "markdown",
   "id": "4d8fe2a0",
   "metadata": {},
   "source": [
    "## **QRNG** - *Quantum Random Number Generation*\n",
    "* October 15°, 2025\n",
    "#### CIC - IPN: *Qiskit Fall Fest*\n",
    "\n",
    "> Alexander Sanchez"
   ]
  },
  {
   "cell_type": "markdown",
   "id": "2d810faa",
   "metadata": {},
   "source": [
    "* How to install qiskit-aer:\n",
    "\n",
    "You can install `qiskit-aer` using pip:\n",
    "\n",
    "```bash\n",
    "pip install qiskit-aer\n",
    "```\n",
    "\n",
    "Or if you prefer using conda:\n",
    "\n",
    "```bash\n",
    "conda install -c conda-forge qiskit-aer\n",
    "```\n",
    "\n",
    "**Note**: `qiskit-aer` is the high-performance simulator for Qiskit that provides noise models and advanced simulation capabilities. It's essential for running quantum circuits locally with realistic noise modeling."
   ]
  },
  {
   "cell_type": "code",
   "execution_count": 3,
   "id": "fb27b2bb",
   "metadata": {},
   "outputs": [
    {
     "name": "stdout",
     "output_type": "stream",
     "text": [
      "^C\n"
     ]
    },
    {
     "name": "stdout",
     "output_type": "stream",
     "text": [
      "Requirement already satisfied: qiskit-aer in d:\\huitzoo\\qiskit\\.venv\\lib\\site-packages (0.17.2)\n",
      "Requirement already satisfied: qiskit>=1.1.0 in d:\\huitzoo\\qiskit\\.venv\\lib\\site-packages (from qiskit-aer) (2.2.1)\n",
      "Requirement already satisfied: numpy>=1.16.3 in d:\\huitzoo\\qiskit\\.venv\\lib\\site-packages (from qiskit-aer) (2.3.3)\n",
      "Requirement already satisfied: scipy>=1.0 in d:\\huitzoo\\qiskit\\.venv\\lib\\site-packages (from qiskit-aer) (1.16.2)\n",
      "Requirement already satisfied: psutil>=5 in d:\\huitzoo\\qiskit\\.venv\\lib\\site-packages (from qiskit-aer) (7.1.0)\n",
      "Requirement already satisfied: python-dateutil>=2.8.0 in d:\\huitzoo\\qiskit\\.venv\\lib\\site-packages (from qiskit-aer) (2.9.0.post0)\n",
      "Requirement already satisfied: six>=1.5 in d:\\huitzoo\\qiskit\\.venv\\lib\\site-packages (from python-dateutil>=2.8.0->qiskit-aer) (1.17.0)\n",
      "Requirement already satisfied: rustworkx>=0.15.0 in d:\\huitzoo\\qiskit\\.venv\\lib\\site-packages (from qiskit>=1.1.0->qiskit-aer) (0.17.1)\n",
      "Requirement already satisfied: dill>=0.3 in d:\\huitzoo\\qiskit\\.venv\\lib\\site-packages (from qiskit>=1.1.0->qiskit-aer) (0.4.0)\n",
      "Requirement already satisfied: stevedore>=3.0.0 in d:\\huitzoo\\qiskit\\.venv\\lib\\site-packages (from qiskit>=1.1.0->qiskit-aer) (5.5.0)\n",
      "Requirement already satisfied: typing-extensions in d:\\huitzoo\\qiskit\\.venv\\lib\\site-packages (from qiskit>=1.1.0->qiskit-aer) (4.15.0)\n"
     ]
    },
    {
     "name": "stderr",
     "output_type": "stream",
     "text": [
      "\n",
      "[notice] A new release of pip is available: 24.3.1 -> 25.2\n",
      "[notice] To update, run: python.exe -m pip install --upgrade pip\n"
     ]
    }
   ],
   "source": [
    "!pip install qiskit-aer"
   ]
  },
  {
   "cell_type": "markdown",
   "id": "69822e09",
   "metadata": {},
   "source": [
    "* Define the quantum circuit"
   ]
  },
  {
   "cell_type": "code",
   "execution_count": 2,
   "id": "38b7de58",
   "metadata": {},
   "outputs": [
    {
     "name": "stdout",
     "output_type": "stream",
     "text": [
      "Quantum Circuit:\n"
     ]
    },
    {
     "data": {
      "image/png": "[encoded data removed]",
      "text/plain": [
       "<Figure size 269.064x200.667 with 1 Axes>"
      ]
     },
     "execution_count": 2,
     "metadata": {},
     "output_type": "execute_result"
    }
   ],
   "source": [
    "# Perform a quantum random number generation using Qiskit simulating locally\n",
    "# and visualize the results with matplotlib and seaborn\n",
    "import matplotlib.pyplot as plt\n",
    "from qiskit import QuantumCircuit, transpile\n",
    "from qiskit_aer import AerSimulator\n",
    "\n",
    "# Set up the quantum circuit\n",
    "qc = QuantumCircuit(1, 1)\n",
    "qc.h(0)  # Apply Hadamard gate to create superposition\n",
    "qc.measure(0, 0)  # Measure the qubit\n",
    "\n",
    "print(\"Quantum Circuit:\")\n",
    "qc.draw(output='mpl')"
   ]
  },
  {
   "cell_type": "markdown",
   "id": "63b2e507",
   "metadata": {},
   "source": [
    "* Simulate the circuit"
   ]
  },
  {
   "cell_type": "code",
   "execution_count": 3,
   "id": "188216b4",
   "metadata": {},
   "outputs": [
    {
     "name": "stdout",
     "output_type": "stream",
     "text": [
      "\n",
      "Measurement results: {'0': 509, '1': 515}\n"
     ]
    },
    {
     "data": {
      "image/png": "[encoded data removed]",
      "text/plain": [
       "<Figure size 800x600 with 1 Axes>"
      ]
     },
     "metadata": {},
     "output_type": "display_data"
    }
   ],
   "source": [
    "# Simulate the circuit\n",
    "simulator = AerSimulator()\n",
    "transpiled_circuit = transpile(qc, simulator)\n",
    "job = simulator.run(transpiled_circuit, shots=1024)\n",
    "# job = simulator.run(transpiled_circuit, shots=1024, seed_simulator=42)\n",
    "result = job.result()\n",
    "counts = result.get_counts()\n",
    "\n",
    "print(f\"\\nMeasurement results: {counts}\")\n",
    "\n",
    "# Alternative visualization using matplotlib\n",
    "plt.figure(figsize=(8, 6))\n",
    "states = list(counts.keys())\n",
    "probabilities = [counts[state]/1024 for state in states]\n",
    "\n",
    "plt.bar(states, probabilities, color=['skyblue', 'lightcoral'])\n",
    "plt.xlabel('Quantum State (0 or 1)')\n",
    "plt.ylabel('Probability')\n",
    "plt.title('QRNG: Probability Distribution of Quantum Measurements')\n",
    "plt.ylim(0, 1)\n",
    "\n",
    "# Add probability labels on bars\n",
    "for i, prob in enumerate(probabilities):\n",
    "    plt.text(i, prob + 0.02, f'{prob:.3f}', ha='center', va='bottom')\n",
    "\n",
    "plt.show()"
   ]
  },
  {
   "cell_type": "markdown",
   "id": "a63c30a6",
   "metadata": {},
   "source": [
    "* **Challenge**: Generate a random number (base 10) given a range between `n` and `m` using the quantum circuit above."
   ]
  },
  {
   "cell_type": "code",
   "execution_count": 122,
   "id": "b24cff66",
   "metadata": {},
   "outputs": [],
   "source": [
    "\n",
    "import math\n",
    "from qiskit import QuantumCircuit, transpile, QuantumRegister, ClassicalRegister\n",
    "from qiskit_aer import AerSimulator\n",
    "\n",
    "\n",
    "class QuantumRandomNumberGenerator:\n",
    "    def __init__(self, backend=None, start=0, end=1):\n",
    "        self.backend = backend or AerSimulator()\n",
    "        self.start = start\n",
    "        self.end = end\n",
    "        self.qubits_needed, self.size = self._calculate_qubits_needed(start, end)\n",
    "\n",
    "    def _calculate_qubits_needed(self, n: int, m: int) -> int:\n",
    "        size = m - n + 1\n",
    "        k = math.ceil(math.log2(size)) or 1\n",
    "        return k, size\n",
    "\n",
    "    def get_random_bits(self, shots: int) -> str:\n",
    "        qr = QuantumRegister(self.qubits_needed)\n",
    "        cr = ClassicalRegister(self.qubits_needed)\n",
    "        qc = QuantumCircuit(qr, cr)\n",
    "        qc.h(qr)  # Apply Hadamard gate to all qubits to create superposition\n",
    "        qc.measure(qr, cr)\n",
    "        tqc = transpile(qc, self.backend)\n",
    "        job = self.backend.run(tqc, shots=shots)\n",
    "        result = job.result()\n",
    "        counts = result.get_counts()\n",
    "        return counts\n",
    "        \"\"\"\n",
    "        bitstring = next(iter(counts.keys()))\n",
    "        return bitstring\n",
    "        \"\"\"\n",
    "\n",
    "    def valid_counts(self, counts) -> dict:\n",
    "        v_counts = {}\n",
    "        for bitstring, count in counts.items():\n",
    "            value = int(bitstring, 2)\n",
    "            if value < self.size:\n",
    "                v_counts[bitstring] = count\n",
    "\n",
    "        return v_counts, sum(v_counts.values())\n",
    "    \n",
    "    def combine_counts(self, counts1, counts2) -> dict:\n",
    "        combined_counts = counts1.copy()\n",
    "        for bitstring, count in counts2.items():\n",
    "            if bitstring in combined_counts:\n",
    "                combined_counts[bitstring] += count\n",
    "            else:\n",
    "                combined_counts[bitstring] = count\n",
    "        return combined_counts\n",
    "\n",
    "    def _generate_shots(self, shots) -> dict:\n",
    "        # This method will generate the required number of shots\n",
    "        counts = self.get_random_bits(shots)\n",
    "        return self.valid_counts(counts)\n",
    "\n",
    "    # generate_random_number generates a random integer between n and m\n",
    "    def generate_random_number(self, shots) -> int:\n",
    "        # When a qbit is measured, it collapses to either 0 or 1 with equal probability.\n",
    "        # To generate a random integer in the range [n, m], we need enough qubits to cover the range.\n",
    "        # Calculate the number of qubits required to represent the range size.\n",
    "        # As the range size is (m - n + 1), we need ceil(log2(size)) qubits because each qubit can represent 2 states.\n",
    "        # For example, to represent numbers from 0 to 7 (size 8), we need 3 qubits (2^3 = 8). 111\n",
    "        total_valid_shots_created = 0\n",
    "        generated_valid_counts = []\n",
    "        while total_valid_shots_created < shots:\n",
    "            valid_counts, total_shots = self._generate_shots(shots - total_valid_shots_created)\n",
    "            generated_valid_counts.append(valid_counts)\n",
    "            total_valid_shots_created += total_shots\n",
    "        else:\n",
    "            numbers = {}\n",
    "            for i in range(len(generated_valid_counts)):\n",
    "                if i == 0:\n",
    "                    valid_counts = generated_valid_counts[i]\n",
    "                else:\n",
    "                    valid_counts = self.combine_counts(valid_counts, generated_valid_counts[i])\n",
    "            for bitstring, count in valid_counts.items():\n",
    "                value = int(bitstring, 2)\n",
    "                numbers[self.start + value] = count\n",
    "            return numbers"
   ]
  },
  {
   "cell_type": "code",
   "execution_count": 128,
   "id": "752adfe5",
   "metadata": {},
   "outputs": [],
   "source": [
    "# plots\n",
    "import matplotlib.pyplot as plt\n",
    "import seaborn as sns\n",
    "\n",
    "generator = QuantumRandomNumberGenerator(start=-1, end=1)\n"
   ]
  },
  {
   "cell_type": "code",
   "execution_count": 133,
   "id": "bb19ae9e",
   "metadata": {},
   "outputs": [],
   "source": [
    "numbers = generator.generate_random_number(100)"
   ]
  },
  {
   "cell_type": "code",
   "execution_count": 134,
   "id": "df833115",
   "metadata": {},
   "outputs": [
    {
     "data": {
      "text/plain": [
       "{0: 39, -1: 29, 1: 32}"
      ]
     },
     "execution_count": 134,
     "metadata": {},
     "output_type": "execute_result"
    }
   ],
   "source": [
    "numbers"
   ]
  },
  {
   "cell_type": "code",
   "execution_count": 135,
   "id": "a244f819",
   "metadata": {},
   "outputs": [
    {
     "name": "stdout",
     "output_type": "stream",
     "text": [
      "100\n"
     ]
    }
   ],
   "source": [
    "print(sum(numbers.values()))"
   ]
  },
  {
   "cell_type": "code",
   "execution_count": 136,
   "id": "cc6fe9e7",
   "metadata": {},
   "outputs": [
    {
     "data": {
      "image/png": "[encoded data removed]",
      "text/plain": [
       "<Figure size 640x480 with 1 Axes>"
      ]
     },
     "metadata": {},
     "output_type": "display_data"
    }
   ],
   "source": [
    "numbers_name = list(numbers.keys())\n",
    "counts = list(numbers.values())\n",
    "\n",
    "sns.barplot(x=numbers_name, y=counts)\n",
    "\n",
    "plt.xlabel(\"Number\")\n",
    "plt.ylabel(\"Count\")\n",
    "plt.title(\"Random Number Generation using QRNG\")\n",
    "\n",
    "# Mostrar la gráfica\n",
    "plt.show()"
   ]
  },
  {
   "cell_type": "code",
   "execution_count": null,
   "id": "ae309bd9",
   "metadata": {},
   "outputs": [],
   "source": []
  }
 ],
 "metadata": {
  "kernelspec": {
   "display_name": ".venv (3.13.2)",
   "language": "python",
   "name": "python3"
  },
  "language_info": {
   "codemirror_mode": {
    "name": "ipython",
    "version": 3
   },
   "file_extension": ".py",
   "mimetype": "text/x-python",
   "name": "python",
   "nbconvert_exporter": "python",
   "pygments_lexer": "ipython3",
   "version": "3.13.2"
  }
 },
 "nbformat": 4,
 "nbformat_minor": 5
}
